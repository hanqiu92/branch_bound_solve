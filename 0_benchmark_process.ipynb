{
 "cells": [
  {
   "cell_type": "markdown",
   "metadata": {},
   "source": [
    "## 0. 评估案例准备\n",
    "\n",
    "在这个notebook中，我将准备一些测试案例/问题，用于后续对B&B求解器的评估中。由于MIP问题通常较难求解（耗时较长），为了在较短的时间内获得有意义的评估结果，评估中不能考虑过多测试案例，且这些案例不能过于困难。因此，下面我将进行多步筛选来获得数十个相对简单的测试案例。感兴趣的读者可以尝试对测试案例集进行调整。"
   ]
  },
  {
   "cell_type": "code",
   "execution_count": 1,
   "metadata": {},
   "outputs": [],
   "source": [
    "import numpy as np\n",
    "np.set_printoptions(suppress=True,precision=4)"
   ]
  },
  {
   "cell_type": "markdown",
   "metadata": {},
   "source": [
    "第一步是找到测试案例资源。MIPLIB (2017)是一个常用的针对MIP求解器的测试案例集；从[这个网址](https://miplib.zib.de/download.html)中，我们可以获取该案例集的问题文件、求解结果文件以及一些其他信息。在本项目中，我将考虑benchmark案例子集中“简单”且“可行”的测试案例；其中，“简单”标签通过easy-v7.test文件获取，而“可行”标签则通过miplib2017-v13.solu文件来获取。"
   ]
  },
  {
   "cell_type": "code",
   "execution_count": 2,
   "metadata": {},
   "outputs": [],
   "source": [
    "from util import load_benchmark\n",
    "## 获取问题“可行性”\n",
    "df_benchmark = load_benchmark('data/miplib2017-v13.solu')\n",
    "opt_problems = set(df_benchmark.query('status_best == \"opt\"')['model'].values)\n",
    "\n",
    "## 获取“简单”问题\n",
    "with open('data/easy-v1.test','r+') as f:\n",
    "    lines = f.readlines()\n",
    "model_names = [line[:-8] for line in lines]\n",
    "model_names = [model_name for model_name in model_names if model_name in opt_problems]"
   ]
  },
  {
   "cell_type": "markdown",
   "metadata": {},
   "source": [
    "满足以上两个条件的问题仍然很多，需要进行进一步筛选。在第二步中，我将根据问题文件的大小进行筛选，只保留小规模问题。"
   ]
  },
  {
   "cell_type": "code",
   "execution_count": 3,
   "metadata": {
    "scrolled": true
   },
   "outputs": [
    {
     "name": "stdout",
     "output_type": "stream",
     "text": [
      "50v-10: 0.28 MB\n",
      "assign1-5-8: 0.11 MB\n",
      "beasleyC3: 0.25 MB\n",
      "binkar10_1: 0.19 MB\n",
      "bnatt400: 1.35 MB\n",
      "bppc4-08: 1.17 MB\n",
      "cost266-UUE: 1.89 MB\n",
      "csched007: 0.40 MB\n",
      "csched008: 0.36 MB\n",
      "dano3_3: 2.49 MB\n",
      "dano3_5: 2.49 MB\n",
      "eil33-2: 1.46 MB\n",
      "enlight_hard: 0.05 MB\n",
      "exp-1-500-5-5: 0.20 MB\n",
      "fastxgemm-n2r6s0t2: 1.48 MB\n",
      "gen-ip002: 0.05 MB\n",
      "gen-ip054: 0.03 MB\n",
      "glass4: 0.08 MB\n",
      "gmu-35-40: 0.35 MB\n",
      "gmu-35-50: 0.59 MB\n",
      "graph20-20-1rand: 1.80 MB\n",
      "graphdraw-domain: 0.21 MB\n",
      "h80x6320d: 1.60 MB\n",
      "ic97_potential: 0.19 MB\n",
      "icir97_tension: 0.98 MB\n",
      "lotsize: 0.30 MB\n",
      "mad: 0.15 MB\n",
      "markshare_4_0: 0.01 MB\n",
      "mas74: 0.06 MB\n",
      "mas76: 0.06 MB\n",
      "mc11: 0.30 MB\n",
      "mcsched: 0.49 MB\n",
      "mik-250-20-75-4: 0.27 MB\n",
      "milo-v12-6-r2-40-1: 0.73 MB\n",
      "n5-3: 0.33 MB\n",
      "n9-3: 0.98 MB\n",
      "neos-1171737: 1.64 MB\n",
      "neos-1445765: 1.56 MB\n",
      "neos-1456979: 1.40 MB\n",
      "neos-1582420: 1.23 MB\n",
      "neos-2657525-crna: 0.07 MB\n",
      "neos-2978193-inde: 2.22 MB\n",
      "neos-3004026-krka: 1.91 MB\n",
      "neos-3024952-loue: 0.66 MB\n",
      "neos-3046615-murg: 0.06 MB\n",
      "neos-3083819-nubu: 0.97 MB\n",
      "neos-3381206-awhea: 0.18 MB\n",
      "neos-3627168-kasai: 0.19 MB\n",
      "neos-4738912-atrato: 0.69 MB\n",
      "neos-5075914-elvire: 0.48 MB\n",
      "neos-5107597-kakapo: 0.82 MB\n",
      "neos-911970: 0.11 MB\n",
      "neos17: 0.93 MB\n",
      "neos5: 0.07 MB\n",
      "ns1208400: 2.28 MB\n",
      "nu25-pr12: 0.77 MB\n",
      "p200x1188c: 0.27 MB\n",
      "pg: 0.35 MB\n",
      "pg5_34: 0.40 MB\n",
      "pk1: 0.03 MB\n",
      "qap10: 0.64 MB\n",
      "ran14x18-disj-8: 0.35 MB\n",
      "reblock115: 1.00 MB\n",
      "rmatr100-p10: 1.77 MB\n",
      "rococoB10-011000: 0.99 MB\n",
      "rococoC11-011100: 1.73 MB\n",
      "roll3000: 0.99 MB\n",
      "sct2: 1.22 MB\n",
      "seymour: 1.29 MB\n",
      "seymour1: 1.29 MB\n",
      "sp150x300d: 0.07 MB\n",
      "supportcase18: 1.04 MB\n",
      "supportcase26: 0.13 MB\n",
      "swath1: 1.68 MB\n",
      "swath3: 1.68 MB\n",
      "timtab1: 0.05 MB\n",
      "toll-like: 1.04 MB\n",
      "tr12-30: 0.13 MB\n",
      "traininstance6: 2.03 MB\n",
      "uct-subprob: 1.76 MB\n",
      "test cases v1: total 80.\n"
     ]
    }
   ],
   "source": [
    "import os,gzip,shutil\n",
    "from util import model2fname\n",
    "\n",
    "size_limit = 2.5 ## 问题大小上限, MB\n",
    "## 遍历各测试案例并解压\n",
    "model_names_remain = []\n",
    "for model_name in model_names:\n",
    "    fname_in = 'data/benchmark/{}.mps.gz'.format(model_name)\n",
    "    fname_out = model2fname(model_name)\n",
    "    try:\n",
    "        if os.path.getsize(fname_in) / 1024 / 1024 <= size_limit: ## in MB\n",
    "            with gzip.open(fname_in,'r') as f_in, open(fname_out,'wb') as f_out:\n",
    "                shutil.copyfileobj(f_in,f_out)\n",
    "                \n",
    "            if os.path.getsize(fname_out) / 1024 / 1024 <= size_limit: ## in MB\n",
    "                model_names_remain += [model_name]\n",
    "                print('{}: {:.2f} MB'.format(model_name,os.path.getsize(fname_out) / 1024 / 1024))\n",
    "    except Exception:\n",
    "        pass\n",
    "print('test cases v1: total {}.'.format(len(model_names_remain)))\n",
    "## 存储测试案例名称\n",
    "with open('data/test_cases_v1','w+') as f:\n",
    "    for model_name in model_names_remain:\n",
    "        f.write(model_name+'\\n')"
   ]
  },
  {
   "cell_type": "markdown",
   "metadata": {},
   "source": [
    "按问题大小筛选过后，测试案例的数量仍然很多。为了让接下来的B&B求解器有求解效果，我将进一步利用现有求解器的求解结果进行筛选：对于一个测试案例，如果现有求解器不能在短时间内有一定的求解进展，那么后续我们自己实现的求解器很可能也没有效果。在这里，我将使用开源求解器[CBC](https://github.com/coin-or/Cbc)作为评估标准。"
   ]
  },
  {
   "cell_type": "code",
   "execution_count": 6,
   "metadata": {
    "scrolled": true
   },
   "outputs": [
    {
     "name": "stdout",
     "output_type": "stream",
     "text": [
      "50v-10: time=320.41, LB=3.18e+03, obj=1.00e+50.\n",
      "assign1-5-8: time=307.30, LB=1.95e+02, obj=2.12e+02.\n",
      "beasleyC3: time=306.84, LB=6.37e+02, obj=9.37e+02.\n",
      "binkar10_1: time=97.80, LB=6.74e+03, obj=6.74e+03.\n",
      "bnatt400: time=303.99, LB=0.00e+00, obj=1.00e+50.\n",
      "bppc4-08: time=315.27, LB=5.16e+01, obj=5.70e+01.\n",
      "cost266-UUE: time=311.70, LB=2.20e+07, obj=2.76e+07.\n",
      "csched007: time=306.26, LB=3.01e+02, obj=1.00e+50.\n",
      "csched008: time=305.67, LB=1.71e+02, obj=1.75e+02.\n",
      "dano3_3: time=51.62, LB=5.76e+02, obj=5.76e+02.\n",
      "dano3_5: time=323.90, LB=5.76e+02, obj=5.77e+02.\n",
      "eil33-2: time=167.97, LB=9.34e+02, obj=9.34e+02.\n",
      "enlight_hard: time=378.36, LB=2.30e+01, obj=1.00e+50.\n",
      "exp-1-500-5-5: time=307.76, LB=5.63e+04, obj=7.64e+04.\n",
      "fastxgemm-n2r6s0t2: time=311.57, LB=2.70e+01, obj=2.36e+02.\n",
      "gen-ip002: time=309.55, LB=-4.80e+03, obj=-4.78e+03.\n",
      "gen-ip054: time=312.31, LB=6.81e+03, obj=6.84e+03.\n",
      "glass4: time=316.11, LB=9.23e+08, obj=1.80e+09.\n",
      "gmu-35-40: time=324.06, LB=-2.41e+06, obj=-2.41e+06.\n",
      "gmu-35-50: time=323.07, LB=-2.61e+06, obj=-2.60e+06.\n",
      "graph20-20-1rand: time=317.65, LB=-2.42e+01, obj=1.00e+50.\n",
      "graphdraw-domain: time=309.92, LB=1.44e+04, obj=2.26e+04.\n",
      "h80x6320d: time=341.49, LB=5.98e+03, obj=6.72e+03.\n",
      "ic97_potential: time=307.38, LB=3.91e+03, obj=4.00e+03.\n",
      "icir97_tension: time=319.44, LB=6.35e+03, obj=6.44e+03.\n",
      "lotsize: time=324.21, LB=7.95e+05, obj=2.09e+06.\n",
      "mad: time=307.77, LB=0.00e+00, obj=9.20e-02.\n",
      "markshare_4_0: time=18.54, LB=1.00e+00, obj=1.00e+00.\n",
      "mas74: time=287.77, LB=1.18e+04, obj=1.18e+04.\n",
      "mas76: time=17.71, LB=4.00e+04, obj=4.00e+04.\n",
      "mc11: time=311.25, LB=9.39e+03, obj=1.35e+04.\n",
      "mcsched: time=302.93, LB=2.02e+05, obj=2.13e+05.\n",
      "mik-250-20-75-4: time=29.87, LB=-5.23e+04, obj=-5.23e+04.\n",
      "milo-v12-6-r2-40-1: time=314.82, LB=2.54e+05, obj=1.00e+50.\n",
      "n5-3: time=305.94, LB=6.71e+03, obj=8.44e+03.\n",
      "n9-3: time=311.87, LB=9.51e+03, obj=1.58e+04.\n",
      "neos-1171737: time=297.79, LB=-1.95e+02, obj=-1.95e+02.\n",
      "neos-1445765: time=293.82, LB=-1.81e+04, obj=-1.78e+04.\n",
      "neos-1456979: time=312.11, LB=1.64e+02, obj=1.79e+02.\n",
      "neos-1582420: time=58.71, LB=9.10e+01, obj=9.10e+01.\n",
      "neos-2657525-crna: time=311.81, LB=0.00e+00, obj=8.28e+00.\n",
      "neos-2978193-inde: time=341.95, LB=-2.42e+00, obj=-2.39e+00.\n",
      "neos-3004026-krka: time=310.28, LB=0.00e+00, obj=1.00e+50.\n",
      "neos-3024952-loue: time=318.70, LB=2.56e+04, obj=1.00e+50.\n",
      "neos-3046615-murg: time=321.76, LB=5.22e+02, obj=1.64e+03.\n",
      "neos-3083819-nubu: time=54.92, LB=6.31e+06, obj=6.31e+06.\n",
      "neos-3381206-awhea: time=33.17, LB=4.53e+02, obj=4.53e+02.\n",
      "neos-3627168-kasai: time=366.77, LB=9.71e+05, obj=9.92e+05.\n",
      "neos-4738912-atrato: time=401.75, LB=2.41e+08, obj=3.05e+08.\n",
      "neos-5075914-elvire: time=380.06, LB=3.08e+02, obj=1.00e+50.\n",
      "neos-5107597-kakapo: time=361.05, LB=1.14e+05, obj=1.18e+05.\n",
      "neos-911970: time=327.58, LB=5.47e+01, obj=5.48e+01.\n",
      "neos17: time=322.72, LB=9.47e-02, obj=1.50e-01.\n",
      "neos5: time=325.39, LB=1.44e+01, obj=1.50e+01.\n",
      "ns1208400: time=352.46, LB=0.00e+00, obj=1.00e+50.\n",
      "nu25-pr12: time=70.35, LB=5.39e+04, obj=5.39e+04.\n",
      "p200x1188c: time=314.60, LB=1.30e+04, obj=1.51e+04.\n",
      "pg: time=40.42, LB=-8.67e+03, obj=-8.67e+03.\n",
      "pg5_34: time=312.29, LB=-1.44e+04, obj=-1.43e+04.\n",
      "pk1: time=38.75, LB=1.10e+01, obj=1.10e+01.\n",
      "qap10: time=48.78, LB=3.40e+02, obj=3.40e+02.\n",
      "ran14x18-disj-8: time=318.03, LB=3.57e+03, obj=3.78e+03.\n",
      "reblock115: time=327.83, LB=-3.72e+07, obj=-3.50e+07.\n",
      "rmatr100-p10: time=159.46, LB=4.23e+02, obj=4.23e+02.\n",
      "rococoB10-011000: time=318.75, LB=1.34e+04, obj=2.11e+04.\n",
      "rococoC11-011100: time=325.36, LB=1.49e+04, obj=2.30e+04.\n",
      "roll3000: time=412.59, LB=1.26e+04, obj=1.33e+04.\n",
      "sct2: time=330.84, LB=-2.31e+02, obj=-2.31e+02.\n",
      "seymour: time=311.74, LB=4.11e+02, obj=4.27e+02.\n",
      "seymour1: time=312.10, LB=4.06e+02, obj=4.12e+02.\n",
      "sp150x300d: time=165.26, LB=6.90e+01, obj=6.90e+01.\n",
      "supportcase18: time=341.42, LB=4.72e+01, obj=5.30e+01.\n",
      "supportcase26: time=317.59, LB=1.53e+03, obj=1.76e+03.\n",
      "swath1: time=156.19, LB=3.79e+02, obj=3.79e+02.\n",
      "swath3: time=385.58, LB=3.76e+02, obj=4.00e+02.\n",
      "timtab1: time=312.07, LB=5.00e+05, obj=8.08e+05.\n",
      "toll-like: time=318.35, LB=4.14e+02, obj=1.00e+50.\n",
      "tr12-30: time=306.57, LB=1.00e+05, obj=1.35e+05.\n",
      "traininstance6: time=344.30, LB=0.00e+00, obj=3.31e+04.\n",
      "uct-subprob: time=308.68, LB=2.74e+02, obj=3.20e+02.\n",
      "elapsed hours: 6.09.\n",
      "test cases v2: total 36.\n"
     ]
    }
   ],
   "source": [
    "## 定义筛选标准\n",
    "max_secs = 300 ## 最大运行时长\n",
    "opt_gap_rate_thres = 0.05 ## 最大可接受optimality gap\n",
    "\n",
    "## 读取测试案例名称\n",
    "with open('data/test_cases_v1','r+') as f:\n",
    "    lines = f.readlines()\n",
    "model_names = [line.strip('\\n') for line in lines]   \n",
    "\n",
    "result = dict()\n",
    "for model_name in model_names:\n",
    "    ## 调用CBC进行求解\n",
    "    (dt,status,LB,obj) = cbc_solve(model2fname(model_name),time_limit=max_secs,solve_type=0)\n",
    "    print('{}: time={:.2f}, LB={:.2e}, obj={:.2e}.'.format(model_name,dt,LB,obj))\n",
    "    result[model_name] = (dt,status,LB,obj)\n",
    "df_result = process_result(result,save_fname='result/cbc_benchmark.csv')\n",
    "print('elapsed hours: {:.2f}.'.format(df_result['time'].sum() / 3600))\n",
    "\n",
    "## 筛选符合要求的测试案例\n",
    "idxs = df_result['opt_gap_rate'] <= opt_gap_rate_thres\n",
    "model_names_remain = df_result.loc[idxs,'model'].values\n",
    "print('test cases v2: total {}.'.format(len(model_names_remain)))\n",
    "## 重新存储测试案例名称\n",
    "with open('data/test_cases_v2','w+') as f:\n",
    "    for model_name in model_names_remain:\n",
    "        f.write(model_name+'\\n')"
   ]
  },
  {
   "cell_type": "markdown",
   "metadata": {},
   "source": [
    "通过求解器筛选，符合要求的测试案例显著下降，但仍然较多。接下来，我将仅使用CBC的B&B能力进行求解，进行进一步筛选。"
   ]
  },
  {
   "cell_type": "code",
   "execution_count": 7,
   "metadata": {
    "scrolled": true
   },
   "outputs": [
    {
     "name": "stdout",
     "output_type": "stream",
     "text": [
      "binkar10_1: time=497.14, LB=6.67e+03, obj=6.75e+03.\n",
      "csched008: time=347.13, LB=1.71e+02, obj=1.88e+02.\n",
      "dano3_3: time=201.51, LB=5.76e+02, obj=5.76e+02.\n",
      "dano3_5: time=323.19, LB=5.76e+02, obj=5.77e+02.\n",
      "eil33-2: time=62.93, LB=9.34e+02, obj=9.34e+02.\n",
      "gen-ip002: time=558.04, LB=-4.80e+03, obj=-4.78e+03.\n",
      "gen-ip054: time=505.39, LB=6.81e+03, obj=6.85e+03.\n",
      "gmu-35-40: time=527.46, LB=-2.41e+06, obj=-2.40e+06.\n",
      "gmu-35-50: time=395.43, LB=-2.61e+06, obj=-2.60e+06.\n",
      "ic97_potential: time=314.79, LB=3.87e+03, obj=4.17e+03.\n",
      "icir97_tension: time=326.85, LB=6.32e+03, obj=6.48e+03.\n",
      "markshare_4_0: time=279.52, LB=1.00e+00, obj=1.00e+00.\n",
      "mas74: time=323.93, LB=1.14e+04, obj=1.18e+04.\n",
      "mas76: time=86.06, LB=4.00e+04, obj=4.00e+04.\n",
      "mik-250-20-75-4: time=316.29, LB=-5.66e+04, obj=-5.23e+04.\n",
      "neos-1171737: time=325.83, LB=-1.95e+02, obj=1.00e+50.\n",
      "neos-1445765: time=336.01, LB=-2.47e+04, obj=1.00e+50.\n",
      "neos-1582420: time=347.94, LB=8.92e+01, obj=9.90e+01.\n",
      "neos-2978193-inde: time=338.46, LB=-2.42e+00, obj=-2.39e+00.\n",
      "neos-3083819-nubu: time=337.63, LB=6.31e+06, obj=6.31e+06.\n",
      "neos-3381206-awhea: time=319.88, LB=4.15e+02, obj=1.00e+50.\n",
      "neos-3627168-kasai: time=314.15, LB=9.46e+05, obj=9.95e+05.\n",
      "neos-5107597-kakapo: time=365.08, LB=6.39e+02, obj=1.37e+04.\n",
      "neos-911970: time=329.87, LB=3.83e+01, obj=7.04e+01.\n",
      "neos5: time=330.04, LB=1.42e+01, obj=1.50e+01.\n",
      "nu25-pr12: time=281.72, LB=5.39e+04, obj=5.39e+04.\n",
      "pg: time=332.17, LB=-1.12e+04, obj=-8.22e+03.\n",
      "pg5_34: time=315.36, LB=-1.62e+04, obj=-1.43e+04.\n",
      "pk1: time=141.91, LB=1.10e+01, obj=1.10e+01.\n",
      "qap10: time=33.91, LB=3.40e+02, obj=3.40e+02.\n",
      "rmatr100-p10: time=97.81, LB=4.23e+02, obj=4.23e+02.\n",
      "sct2: time=310.80, LB=-2.31e+02, obj=-2.27e+02.\n",
      "seymour: time=305.51, LB=4.04e+02, obj=4.30e+02.\n",
      "seymour1: time=308.63, LB=4.04e+02, obj=4.11e+02.\n",
      "sp150x300d: time=320.74, LB=4.17e+01, obj=8.00e+01.\n",
      "swath1: time=34.25, LB=3.79e+02, obj=3.79e+02.\n",
      "elapsed hours: 3.03.\n",
      "test cases v3: total 22.\n"
     ]
    }
   ],
   "source": [
    "## 定义筛选标准\n",
    "max_secs = 300 ## 最大运行时长\n",
    "opt_gap_rate_thres = 0.05 ## 最大可接受optimality gap\n",
    "\n",
    "## 读取测试案例名称\n",
    "with open('data/test_cases_v2','r+') as f:\n",
    "    lines = f.readlines()\n",
    "model_names = [line.strip('\\n') for line in lines]\n",
    "    \n",
    "result = dict()\n",
    "for model_name in model_names:\n",
    "    ## 调用CBC的B&B能力进行求解\n",
    "    (dt,status,LB,obj) = cbc_solve(model2fname(model_name),time_limit=max_secs,solve_type=1)\n",
    "    print('{}: time={:.2f}, LB={:.2e}, obj={:.2e}.'.format(model_name,dt,LB,obj))\n",
    "    result[model_name] = (dt,status,LB,obj)\n",
    "df_result = process_result(result,save_fname='result/bb_benchmark.csv')\n",
    "print('elapsed hours: {:.2f}.'.format(df_result['time'].sum() / 3600))\n",
    "\n",
    "## 筛选符合要求的测试案例\n",
    "idxs = df_result['opt_gap_rate'] <= opt_gap_rate_thres\n",
    "model_names_remain = df_result.loc[idxs,'model'].values\n",
    "print('test cases v3: total {}.'.format(len(model_names_remain)))\n",
    "## 重新存储测试案例名称\n",
    "with open('data/test_cases_v3','w+') as f:\n",
    "    for model_name in model_names_remain:\n",
    "        f.write(model_name+'\\n')"
   ]
  },
  {
   "cell_type": "markdown",
   "metadata": {},
   "source": [
    "经过上面多步筛选，用于评估的测试案例的数量终于能够被控制在一个较低的水平。下面，我们将进入正题：如何实现自己的B&B求解器。"
   ]
  }
 ],
 "metadata": {
  "kernelspec": {
   "display_name": "Python 3",
   "language": "python",
   "name": "python3"
  },
  "language_info": {
   "codemirror_mode": {
    "name": "ipython",
    "version": 3
   },
   "file_extension": ".py",
   "mimetype": "text/x-python",
   "name": "python",
   "nbconvert_exporter": "python",
   "pygments_lexer": "ipython3",
   "version": "3.6.4"
  },
  "varInspector": {
   "cols": {
    "lenName": 16,
    "lenType": 16,
    "lenVar": 40
   },
   "kernels_config": {
    "python": {
     "delete_cmd_postfix": "",
     "delete_cmd_prefix": "del ",
     "library": "var_list.py",
     "varRefreshCmd": "print(var_dic_list())"
    },
    "r": {
     "delete_cmd_postfix": ") ",
     "delete_cmd_prefix": "rm(",
     "library": "var_list.r",
     "varRefreshCmd": "cat(var_dic_list()) "
    }
   },
   "types_to_exclude": [
    "module",
    "function",
    "builtin_function_or_method",
    "instance",
    "_Feature"
   ],
   "window_display": false
  }
 },
 "nbformat": 4,
 "nbformat_minor": 2
}
